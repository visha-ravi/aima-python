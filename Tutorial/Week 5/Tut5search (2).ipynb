{
 "cells": [
  {
   "cell_type": "markdown",
   "id": "5624f307",
   "metadata": {},
   "source": [
    "# Tutorial Week 5 -  Game Tree Search\n",
    "\n",
    "We start with defining the abstract class `Game`, for turn-taking *n*-player games. \n",
    "\n",
    "We also define `play_game`, which takes a game and a dictionary of  `{player_name: strategy_function}` pairs, and plays out the game, on each turn checking `state.to_move` to see whose turn it is, and then getting the strategy function for that player and applying it to the game and the state to get a move."
   ]
  },
  {
   "cell_type": "code",
   "execution_count": 33,
   "id": "4499ddbb",
   "metadata": {},
   "outputs": [],
   "source": [
    "from collections import namedtuple, Counter, defaultdict\n",
    "import random\n",
    "import math\n",
    "import functools \n",
    "cache = functools.lru_cache(10**6)"
   ]
  },
  {
   "cell_type": "code",
   "execution_count": 34,
   "id": "745bd8cb",
   "metadata": {},
   "outputs": [],
   "source": [
    "class Game:\n",
    "    \"\"\"A game is similar to a problem, but it has a terminal test instead of \n",
    "    a goal test, and a utility for each terminal state. To create a game, \n",
    "    subclass this class and implement `actions`, `result`, `is_terminal`, \n",
    "    and `utility`. You will also need to set the .initial attribute to the \n",
    "    initial state; this can be done in the constructor.\"\"\"\n",
    "\n",
    "    def actions(self, state):\n",
    "        \"\"\"Return a collection of the allowable moves from this state.\"\"\"\n",
    "        raise NotImplementedError\n",
    "\n",
    "    def result(self, state, move):\n",
    "        \"\"\"Return the state that results from making a move from a state.\"\"\"\n",
    "        raise NotImplementedError\n",
    "\n",
    "    def is_terminal(self, state):\n",
    "        \"\"\"Return True if this is a final state for the game.\"\"\"\n",
    "        return not self.actions(state)\n",
    "    \n",
    "    def utility(self, state, player):\n",
    "        \"\"\"Return the value of this final state to player.\"\"\"\n",
    "        raise NotImplementedError\n",
    "        \n",
    "\n",
    "def play_game(game, strategies: dict, verbose=False):\n",
    "    \"\"\"Play a turn-taking game. `strategies` is a {player_name: function} dict,\n",
    "    where function(state, game) is used to get the player's move.\"\"\"\n",
    "    state = game.initial\n",
    "    while not game.is_terminal(state):\n",
    "        player = state.to_move\n",
    "        move = strategies[player](game, state)\n",
    "        state = game.result(state, move)\n",
    "        if verbose: \n",
    "            print('Player', player, 'move:', move)\n",
    "            print(state)\n",
    "    return state"
   ]
  },
  {
   "cell_type": "markdown",
   "id": "137b5adb",
   "metadata": {},
   "source": [
    "# Minimax-Based Game Search Algorithms\n",
    "\n",
    "We will define several game search algorithms. Each takes two inputs, the game we are playing and the current state of the game, and returns a a `(value, move)` pair, where `value` is the utility that the algorithm computes for the player whose turn it is to move, and `move` is the move itself.\n",
    "\n",
    "First we define `minimax_search`, which exhaustively searches the game tree to find an optimal move (assuming both players play optimally), and `alphabeta_search`, which does the same computation, but prunes parts of the tree that could not possibly have an affect on the optimnal move.  "
   ]
  },
  {
   "cell_type": "code",
   "execution_count": 35,
   "id": "b925fc47",
   "metadata": {},
   "outputs": [],
   "source": [
    "def minimax_search(game, state):\n",
    "    \"\"\"Search game tree to determine best move; return (value, move) pair.\"\"\"\n",
    "\n",
    "    player = state.to_move\n",
    "\n",
    "    def max_value(state):\n",
    "        if game.is_terminal(state):\n",
    "            return game.utility(state, player), None\n",
    "        v, move = -infinity, None\n",
    "        for a in game.actions(state):\n",
    "            v2, _ = min_value(game.result(state, a))\n",
    "            if v2 > v:\n",
    "                v, move = v2, a\n",
    "        return v, move\n",
    "\n",
    "    def min_value(state):\n",
    "        if game.is_terminal(state):\n",
    "            return game.utility(state, player), None\n",
    "        v, move = +infinity, None\n",
    "        for a in game.actions(state):\n",
    "            v2, _ = max_value(game.result(state, a))\n",
    "            if v2 < v:\n",
    "                v, move = v2, a\n",
    "        return v, move\n",
    "\n",
    "    return max_value(state)\n",
    "\n",
    "infinity = math.inf\n",
    "\n",
    "def alphabeta_search(game, state):\n",
    "    \"\"\"Search game to determine best action; use alpha-beta pruning.\n",
    "    As in [Figure 5.7], this version searches all the way to the leaves.\"\"\"\n",
    "\n",
    "    player = state.to_move\n",
    "\n",
    "    def max_value(state, alpha, beta):\n",
    "        if game.is_terminal(state):\n",
    "            return game.utility(state, player), None\n",
    "        v, move = -infinity, None\n",
    "        for a in game.actions(state):\n",
    "            v2, _ = min_value(game.result(state, a), alpha, beta)\n",
    "            if v2 > v:\n",
    "                v, move = v2, a\n",
    "                alpha = max(alpha, v)\n",
    "            if v >= beta:\n",
    "                return v, move\n",
    "        return v, move\n",
    "\n",
    "    def min_value(state, alpha, beta):\n",
    "        if game.is_terminal(state):\n",
    "            return game.utility(state, player), None\n",
    "        v, move = +infinity, None\n",
    "        for a in game.actions(state):\n",
    "            v2, _ = max_value(game.result(state, a), alpha, beta)\n",
    "            if v2 < v:\n",
    "                v, move = v2, a\n",
    "                beta = min(beta, v)\n",
    "            if v <= alpha:\n",
    "                return v, move\n",
    "        return v, move\n",
    "\n",
    "    return max_value(state, -infinity, +infinity)"
   ]
  },
  {
   "cell_type": "markdown",
   "id": "88fcb24c",
   "metadata": {},
   "source": [
    "# A Simple Game: Tic-Tac-Toe\n",
    "\n",
    "We have the notion of an abstract game, we have some search functions; now it is time to define a real game; a simple one, tic-tac-toe. Moves are `(x, y)` pairs denoting squares, where `(0, 0)` is the top left, and `(2, 2)` is the bottom right (on a board of size `height=width=3`)."
   ]
  },
  {
   "cell_type": "code",
   "execution_count": 37,
   "id": "43686733",
   "metadata": {},
   "outputs": [],
   "source": [
    "class TicTacToe(Game):\n",
    "    \"\"\"Play TicTacToe on an `height` by `width` board, needing `k` in a row to win.\n",
    "    'X' plays first against 'O'.\"\"\"\n",
    "    #changing the baord into 4*4\n",
    "    #k is the cross value\n",
    "    def __init__(self, height=4, width=4, k=4):\n",
    "        self.k = k # k in a row\n",
    "        self.squares = {(x, y) for x in range(width) for y in range(height)}\n",
    "        self.initial = Board(height=height, width=width, to_move='X', utility=0)\n",
    "\n",
    "    def actions(self, board):\n",
    "        \"\"\"Legal moves are any square not yet taken.\"\"\"\n",
    "        return self.squares - set(board)\n",
    "\n",
    "    def result(self, board, square):\n",
    "        \"\"\"Place a marker for current player on square.\"\"\"\n",
    "        player = board.to_move\n",
    "        board = board.new({square: player}, to_move=('O' if player == 'X' else 'X'))\n",
    "        win = k_in_row(board, player, square, self.k)\n",
    "        board.utility = (0 if not win else +1 if player == 'X' else -1)\n",
    "        return board\n",
    "\n",
    "    def utility(self, board, player):\n",
    "        \"\"\"Return the value to player; 1 for win, -1 for loss, 0 otherwise.\"\"\"\n",
    "        return board.utility if player == 'X' else -board.utility\n",
    "\n",
    "    def is_terminal(self, board):\n",
    "        \"\"\"A board is a terminal state if it is won or there are no empty squares.\"\"\"\n",
    "        return board.utility != 0 or len(self.squares) == len(board)\n",
    "\n",
    "    def display(self, board): print(board)     \n",
    "\n",
    "\n",
    "def k_in_row(board, player, square, k):\n",
    "    \"\"\"True if player has k pieces in a line through square.\"\"\"\n",
    "    def in_row(x, y, dx, dy): return 0 if board[x, y] != player else 1 + in_row(x + dx, y + dy, dx, dy)\n",
    "    return any(in_row(*square, dx, dy) + in_row(*square, -dx, -dy) - 1 >= k\n",
    "               for (dx, dy) in ((0, 1), (1, 0), (1, 1), (1, -1)))"
   ]
  },
  {
   "cell_type": "markdown",
   "id": "fc498d89",
   "metadata": {},
   "source": [
    "States in tic-tac-toe (and other games) will be represented as a `Board`, which is a subclass of `defaultdict` that in general will consist of `{(x, y): contents}` pairs, for example `{(0, 0): 'X', (1, 1): 'O'}` might be the state of the board after two moves. Besides the contents of squares, a board also has some attributes: \n",
    "- `.to_move` to name the player whose move it is; \n",
    "- `.width` and `.height` to give the size of the board (both 3 in tic-tac-toe, but other numbers in related games);\n",
    "- possibly other attributes, as specified by keywords. \n",
    "\n",
    "As a `defaultdict`, the `Board` class has a `__missing__` method, which returns `empty` for squares that have no been assigned but are within the `width` × `height` boundaries, or `off` otherwise. The class has a `__hash__` method, so instances can be stored in hash tables."
   ]
  },
  {
   "cell_type": "code",
   "execution_count": 38,
   "id": "96832b1b",
   "metadata": {},
   "outputs": [],
   "source": [
    "class Board(defaultdict):\n",
    "    \"\"\"A board has the player to move, a cached utility value, \n",
    "    and a dict of {(x, y): player} entries, where player is 'X' or 'O'.\"\"\"\n",
    "    empty = '.'\n",
    "    off = '#'\n",
    "    \n",
    "    def __init__(self, width=8, height=8, to_move=None, **kwds):\n",
    "        self.__dict__.update(width=width, height=height, to_move=to_move, **kwds)\n",
    "        \n",
    "    def new(self, changes: dict, **kwds) -> 'Board':\n",
    "        \"Given a dict of {(x, y): contents} changes, return a new Board with the changes.\"\n",
    "        board = Board(width=self.width, height=self.height, **kwds)\n",
    "        board.update(self)\n",
    "        board.update(changes)\n",
    "        return board\n",
    "\n",
    "    def __missing__(self, loc):\n",
    "        x, y = loc\n",
    "        if 0 <= x < self.width and 0 <= y < self.height:\n",
    "            return self.empty\n",
    "        else:\n",
    "            return self.off\n",
    "            \n",
    "    def __hash__(self): \n",
    "        return hash(tuple(sorted(self.items()))) + hash(self.to_move)\n",
    "    \n",
    "    def __repr__(self):\n",
    "        def row(y): return ' '.join(self[x, y] for x in range(self.width))\n",
    "        return '\\n'.join(map(row, range(self.height))) +  '\\n'"
   ]
  },
  {
   "cell_type": "markdown",
   "id": "28678179",
   "metadata": {},
   "source": [
    "# Players\n",
    "\n",
    "We need an interface for players. I'll represent a player as a `callable` that will be passed two arguments: `(game, state)` and will return a `move`.\n",
    "The function `player` creates a player out of a search algorithm, but you can create your own players as functions, as is done with `random_player` below:"
   ]
  },
  {
   "cell_type": "code",
   "execution_count": 39,
   "id": "dfbabff9",
   "metadata": {},
   "outputs": [],
   "source": [
    "def random_player(game, state): return random.choice(list(game.actions(state)))\n",
    "\n",
    "def player(search_algorithm):\n",
    "    \"\"\"A game player who uses the specified search algorithm\"\"\"\n",
    "    return lambda game, state: search_algorithm(game, state)[1]"
   ]
  },
  {
   "cell_type": "markdown",
   "id": "f26104d0",
   "metadata": {},
   "source": [
    "# Playing a Game\n",
    "\n",
    "We're ready to play a game. I'll set up a match between a `random_player` (who chooses randomly from the legal moves) and a `player(alphabeta_search)` (who makes the optimal alpha-beta move; practical for tic-tac-toe, but not for large games). The `player(alphabeta_search)` will never lose, but if `random_player` is lucky, it will be a tie."
   ]
  },
  {
   "cell_type": "code",
   "execution_count": 40,
   "id": "76c42ef1",
   "metadata": {},
   "outputs": [
    {
     "name": "stdout",
     "output_type": "stream",
     "text": [
      "Player X move: (3, 3)\n",
      ". . . .\n",
      ". . . .\n",
      ". . . .\n",
      ". . . X\n",
      "\n",
      "Player O move: (0, 1)\n",
      ". . . .\n",
      "O . . .\n",
      ". . . .\n",
      ". . . X\n",
      "\n",
      "Player X move: (0, 2)\n",
      ". . . .\n",
      "O . . .\n",
      "X . . .\n",
      ". . . X\n",
      "\n",
      "Player O move: (1, 2)\n",
      ". . . .\n",
      "O . . .\n",
      "X O . .\n",
      ". . . X\n",
      "\n",
      "Player X move: (2, 3)\n",
      ". . . .\n",
      "O . . .\n",
      "X O . .\n",
      ". . X X\n",
      "\n",
      "Player O move: (2, 1)\n",
      ". . . .\n",
      "O . O .\n",
      "X O . .\n",
      ". . X X\n",
      "\n",
      "Player X move: (1, 0)\n",
      ". X . .\n",
      "O . O .\n",
      "X O . .\n",
      ". . X X\n",
      "\n",
      "Player O move: (0, 0)\n",
      "O X . .\n",
      "O . O .\n",
      "X O . .\n",
      ". . X X\n",
      "\n",
      "Player X move: (3, 0)\n",
      "O X . X\n",
      "O . O .\n",
      "X O . .\n",
      ". . X X\n",
      "\n",
      "Player O move: (3, 1)\n",
      "O X . X\n",
      "O . O O\n",
      "X O . .\n",
      ". . X X\n",
      "\n",
      "Player X move: (1, 3)\n",
      "O X . X\n",
      "O . O O\n",
      "X O . .\n",
      ". X X X\n",
      "\n",
      "Player O move: (1, 1)\n",
      "O X . X\n",
      "O O O O\n",
      "X O . .\n",
      ". X X X\n",
      "\n"
     ]
    },
    {
     "data": {
      "text/plain": [
       "-1"
      ]
     },
     "execution_count": 40,
     "metadata": {},
     "output_type": "execute_result"
    }
   ],
   "source": [
    "play_game(TicTacToe(), dict(X=random_player, O=player(alphabeta_search)), verbose=True).utility"
   ]
  },
  {
   "cell_type": "markdown",
   "id": "060b83db",
   "metadata": {},
   "source": [
    "The alpha-beta player will never lose, but sometimes the random player can stumble into a draw. When two optimal (alpha-beta or minimax) players compete, it will always be a draw:"
   ]
  },
  {
   "cell_type": "code",
   "execution_count": null,
   "id": "3312ba65",
   "metadata": {},
   "outputs": [],
   "source": [
    "play_game(TicTacToe(), dict(X=player(alphabeta_search), O=player(minimax_search)), verbose=True).utility"
   ]
  },
  {
   "cell_type": "markdown",
   "id": "259afd6c",
   "metadata": {},
   "source": [
    "### Exercise 1. As in previous tutorials, place print statements so that you can trace the operation of the algorithms."
   ]
  },
  {
   "cell_type": "markdown",
   "id": "2fc437d9",
   "metadata": {},
   "source": [
    "### Exercise 2. Create a command so that the game is played with two random players."
   ]
  },
  {
   "cell_type": "code",
   "execution_count": null,
   "id": "c902f2e3",
   "metadata": {},
   "outputs": [],
   "source": [
    "play_game(TicTacToe(), dict(X=random_player, O=random_player), verbose=True).utility"
   ]
  },
  {
   "cell_type": "markdown",
   "id": "0a400b35",
   "metadata": {},
   "source": [
    "### Exercise 3. Can you change the game to use a 4x4 board. \n",
    "What is the difference in performance. Can you estimate how large the game tree grows in the worst case?\n"
   ]
  },
  {
   "cell_type": "code",
   "execution_count": null,
   "id": "014a2561",
   "metadata": {},
   "outputs": [],
   "source": []
  }
 ],
 "metadata": {
  "kernelspec": {
   "display_name": "Python 3.10.7 64-bit",
   "language": "python",
   "name": "python3"
  },
  "language_info": {
   "codemirror_mode": {
    "name": "ipython",
    "version": 3
   },
   "file_extension": ".py",
   "mimetype": "text/x-python",
   "name": "python",
   "nbconvert_exporter": "python",
   "pygments_lexer": "ipython3",
   "version": "3.10.7"
  },
  "vscode": {
   "interpreter": {
    "hash": "fb4569285eef3a3450cb62085a5b1e0da4bce0af555edc33dcf29baf3acc1368"
   }
  }
 },
 "nbformat": 4,
 "nbformat_minor": 5
}
