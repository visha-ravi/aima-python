{
 "cells": [
  {
   "cell_type": "code",
   "execution_count": 10,
   "id": "9695092e-7a7f-499f-907b-141ea2a6b1db",
   "metadata": {},
   "outputs": [
    {
     "name": "stdout",
     "output_type": "stream",
     "text": [
      "3.7.13 (default, Mar 28 2022, 08:03:21) [MSC v.1916 64 bit (AMD64)]\n",
      "['g:\\\\My Drive\\\\IIT\\\\4th Year\\\\Applied Artificial Intelligence\\\\aima-python\\\\Tutorial\\\\Week 2', 'c:\\\\Users\\\\user\\\\anaconda3\\\\envs\\\\py37\\\\python37.zip', 'c:\\\\Users\\\\user\\\\anaconda3\\\\envs\\\\py37\\\\DLLs', 'c:\\\\Users\\\\user\\\\anaconda3\\\\envs\\\\py37\\\\lib', 'c:\\\\Users\\\\user\\\\anaconda3\\\\envs\\\\py37', '', 'c:\\\\Users\\\\user\\\\anaconda3\\\\envs\\\\py37\\\\lib\\\\site-packages', 'c:\\\\Users\\\\user\\\\anaconda3\\\\envs\\\\py37\\\\lib\\\\site-packages\\\\win32', 'c:\\\\Users\\\\user\\\\anaconda3\\\\envs\\\\py37\\\\lib\\\\site-packages\\\\win32\\\\lib', 'c:\\\\Users\\\\user\\\\anaconda3\\\\envs\\\\py37\\\\lib\\\\site-packages\\\\Pythonwin', 'c:\\\\Users\\\\user\\\\anaconda3\\\\envs\\\\py37\\\\lib\\\\site-packages\\\\IPython\\\\extensions', 'C:\\\\Users\\\\user\\\\.ipython']\n"
     ]
    }
   ],
   "source": [
    "import sys\n",
    "print(sys.version)\n",
    "print(sys.path)"
   ]
  },
  {
   "cell_type": "markdown",
   "id": "83b1afc9-fd85-467b-9d02-d2dbca65c902",
   "metadata": {},
   "source": [
    "There are three cell types. Code, markdown, and raw.\n",
    "\n",
    "Press esc-b, then esc-m and enter some markup. This is an example of markup. You can keep writing instructions here as much as you want. Is that it is also an formatting. You will find this a good way to take notes while you are.\n",
    "\n",
    "Now press esc-b again to insert another cell below"
   ]
  },
  {
   "cell_type": "code",
   "execution_count": 11,
   "id": "39c0fd09-0077-4b5e-ace6-4ef2d7ce8793",
   "metadata": {},
   "outputs": [
    {
     "name": "stdout",
     "output_type": "stream",
     "text": [
      "Artie is using python version 3.7.13 (default, Mar 28 2022, 08:03:21) [MSC v.1916 64 bit (AMD64)] on this machine.\n"
     ]
    }
   ],
   "source": [
    "# This is a code cell. Press shift-enger to execute it. \n",
    "import sys\n",
    "print(f'Artie is using python version {sys.version} on this machine.')"
   ]
  },
  {
   "cell_type": "markdown",
   "id": "de81b6e7-a810-4dea-a228-0d7958536cda",
   "metadata": {},
   "source": [
    "# Markdown lets you format text. This is example text printed using Header 1 formatting\n",
    "Try changing it to other header styles."
   ]
  },
  {
   "cell_type": "raw",
   "id": "3355ccff-ba40-4540-b0de-6e574e16572c",
   "metadata": {},
   "source": [
    "print('hello') #code cell"
   ]
  },
  {
   "cell_type": "code",
   "execution_count": 12,
   "id": "a1445471-179c-4682-ae8c-d5e1e2eb47a9",
   "metadata": {},
   "outputs": [
    {
     "data": {
      "application/json": {
       "cell": {
        "!": "OSMagics",
        "HTML": "Other",
        "SVG": "Other",
        "bash": "Other",
        "capture": "ExecutionMagics",
        "cmd": "Other",
        "debug": "ExecutionMagics",
        "file": "Other",
        "html": "DisplayMagics",
        "javascript": "DisplayMagics",
        "js": "DisplayMagics",
        "latex": "DisplayMagics",
        "markdown": "DisplayMagics",
        "perl": "Other",
        "prun": "ExecutionMagics",
        "pypy": "Other",
        "python": "Other",
        "python2": "Other",
        "python3": "Other",
        "ruby": "Other",
        "script": "ScriptMagics",
        "sh": "Other",
        "svg": "DisplayMagics",
        "sx": "OSMagics",
        "system": "OSMagics",
        "time": "ExecutionMagics",
        "timeit": "ExecutionMagics",
        "writefile": "OSMagics"
       },
       "line": {
        "alias": "OSMagics",
        "alias_magic": "BasicMagics",
        "autoawait": "AsyncMagics",
        "autocall": "AutoMagics",
        "automagic": "AutoMagics",
        "autosave": "KernelMagics",
        "bookmark": "OSMagics",
        "cd": "OSMagics",
        "clear": "KernelMagics",
        "cls": "KernelMagics",
        "colors": "BasicMagics",
        "conda": "PackagingMagics",
        "config": "ConfigMagics",
        "connect_info": "KernelMagics",
        "copy": "Other",
        "ddir": "Other",
        "debug": "ExecutionMagics",
        "dhist": "OSMagics",
        "dirs": "OSMagics",
        "doctest_mode": "BasicMagics",
        "echo": "Other",
        "ed": "Other",
        "edit": "KernelMagics",
        "env": "OSMagics",
        "gui": "BasicMagics",
        "hist": "Other",
        "history": "HistoryMagics",
        "killbgscripts": "ScriptMagics",
        "ldir": "Other",
        "less": "KernelMagics",
        "load": "CodeMagics",
        "load_ext": "ExtensionMagics",
        "loadpy": "CodeMagics",
        "logoff": "LoggingMagics",
        "logon": "LoggingMagics",
        "logstart": "LoggingMagics",
        "logstate": "LoggingMagics",
        "logstop": "LoggingMagics",
        "ls": "Other",
        "lsmagic": "BasicMagics",
        "macro": "ExecutionMagics",
        "magic": "BasicMagics",
        "matplotlib": "PylabMagics",
        "mkdir": "Other",
        "more": "KernelMagics",
        "notebook": "BasicMagics",
        "page": "BasicMagics",
        "pastebin": "CodeMagics",
        "pdb": "ExecutionMagics",
        "pdef": "NamespaceMagics",
        "pdoc": "NamespaceMagics",
        "pfile": "NamespaceMagics",
        "pinfo": "NamespaceMagics",
        "pinfo2": "NamespaceMagics",
        "pip": "PackagingMagics",
        "popd": "OSMagics",
        "pprint": "BasicMagics",
        "precision": "BasicMagics",
        "prun": "ExecutionMagics",
        "psearch": "NamespaceMagics",
        "psource": "NamespaceMagics",
        "pushd": "OSMagics",
        "pwd": "OSMagics",
        "pycat": "OSMagics",
        "pylab": "PylabMagics",
        "qtconsole": "KernelMagics",
        "quickref": "BasicMagics",
        "recall": "HistoryMagics",
        "rehashx": "OSMagics",
        "reload_ext": "ExtensionMagics",
        "ren": "Other",
        "rep": "Other",
        "rerun": "HistoryMagics",
        "reset": "NamespaceMagics",
        "reset_selective": "NamespaceMagics",
        "rmdir": "Other",
        "run": "ExecutionMagics",
        "save": "CodeMagics",
        "sc": "OSMagics",
        "set_env": "OSMagics",
        "store": "StoreMagics",
        "sx": "OSMagics",
        "system": "OSMagics",
        "tb": "ExecutionMagics",
        "time": "ExecutionMagics",
        "timeit": "ExecutionMagics",
        "unalias": "OSMagics",
        "unload_ext": "ExtensionMagics",
        "who": "NamespaceMagics",
        "who_ls": "NamespaceMagics",
        "whos": "NamespaceMagics",
        "xdel": "NamespaceMagics",
        "xmode": "BasicMagics"
       }
      },
      "text/plain": [
       "Available line magics:\n",
       "%alias  %alias_magic  %autoawait  %autocall  %automagic  %autosave  %bookmark  %cd  %clear  %cls  %colors  %conda  %config  %connect_info  %copy  %ddir  %debug  %dhist  %dirs  %doctest_mode  %echo  %ed  %edit  %env  %gui  %hist  %history  %killbgscripts  %ldir  %less  %load  %load_ext  %loadpy  %logoff  %logon  %logstart  %logstate  %logstop  %ls  %lsmagic  %macro  %magic  %matplotlib  %mkdir  %more  %notebook  %page  %pastebin  %pdb  %pdef  %pdoc  %pfile  %pinfo  %pinfo2  %pip  %popd  %pprint  %precision  %prun  %psearch  %psource  %pushd  %pwd  %pycat  %pylab  %qtconsole  %quickref  %recall  %rehashx  %reload_ext  %ren  %rep  %rerun  %reset  %reset_selective  %rmdir  %run  %save  %sc  %set_env  %store  %sx  %system  %tb  %time  %timeit  %unalias  %unload_ext  %who  %who_ls  %whos  %xdel  %xmode\n",
       "\n",
       "Available cell magics:\n",
       "%%!  %%HTML  %%SVG  %%bash  %%capture  %%cmd  %%debug  %%file  %%html  %%javascript  %%js  %%latex  %%markdown  %%perl  %%prun  %%pypy  %%python  %%python2  %%python3  %%ruby  %%script  %%sh  %%svg  %%sx  %%system  %%time  %%timeit  %%writefile\n",
       "\n",
       "Automagic is ON, % prefix IS NOT needed for line magics."
      ]
     },
     "execution_count": 12,
     "metadata": {},
     "output_type": "execute_result"
    }
   ],
   "source": [
    "# List all magic commands\n",
    "%lsmagic"
   ]
  },
  {
   "cell_type": "markdown",
   "id": "d799d805-78bd-4e73-bb7d-22d2748ce728",
   "metadata": {},
   "source": [
    "# List all magic commands\n",
    "%lsmagic"
   ]
  },
  {
   "cell_type": "markdown",
   "id": "e75caeb3-edbd-4cbd-b757-32f4ab3c3db1",
   "metadata": {},
   "source": [
    "# Now start exploring Python code.\n",
    "Operators"
   ]
  },
  {
   "cell_type": "code",
   "execution_count": 13,
   "id": "8337e1d8-25e9-4945-87f9-3e85ba7b3387",
   "metadata": {},
   "outputs": [
    {
     "name": "stdout",
     "output_type": "stream",
     "text": [
      "2\n",
      "6\n"
     ]
    }
   ],
   "source": [
    "print(1+1)\n",
    "print(2*3)"
   ]
  },
  {
   "cell_type": "code",
   "execution_count": 14,
   "id": "16bd3c79-8bb5-4140-b52f-6ca8abf93607",
   "metadata": {},
   "outputs": [
    {
     "name": "stdout",
     "output_type": "stream",
     "text": [
      "False\n",
      "True\n",
      "False\n",
      "True\n"
     ]
    }
   ],
   "source": [
    "print(1 == 0)\n",
    "print(False == 0)\n",
    "print(True == 8)  #\n",
    "print(\"hello\" == 'hello')"
   ]
  },
  {
   "cell_type": "markdown",
   "id": "9475d55c-3b53-4d37-baef-4ae48decf6c6",
   "metadata": {},
   "source": [
    "# Strings\n",
    "Operator overloading and standard set of string libraries."
   ]
  },
  {
   "cell_type": "code",
   "execution_count": 15,
   "id": "3c9ab467-2c35-4f8f-8718-b136beb33771",
   "metadata": {},
   "outputs": [
    {
     "name": "stdout",
     "output_type": "stream",
     "text": [
      "6COSC020W Applied AI!!!\n",
      "APPLIED AI\n",
      "23\n"
     ]
    }
   ],
   "source": [
    "print('6COSC020W ' + 'Applied ' + 'AI' + '!'*3)\n",
    "print('applied ai'.upper())\n",
    "print(len('Artificial Intelligence'))"
   ]
  },
  {
   "cell_type": "markdown",
   "id": "7cfb51a0-307c-4eb8-8025-6c8b233021bc",
   "metadata": {},
   "source": [
    "# Remember that Python is not statically typed\n",
    "Variables can be reassigned. This is convenient but dangerous with larger programs."
   ]
  },
  {
   "cell_type": "code",
   "execution_count": 16,
   "id": "d7b317bc-b341-46f6-811b-c7b6140483c1",
   "metadata": {},
   "outputs": [],
   "source": [
    "# Dir and Help\n",
    "# Dir lists all the members of an object. Help is a convenient way to lookup a method."
   ]
  },
  {
   "cell_type": "code",
   "execution_count": 17,
   "id": "453a275d-4ef1-4304-8312-16d0b03a01ca",
   "metadata": {},
   "outputs": [
    {
     "name": "stdout",
     "output_type": "stream",
     "text": [
      "['__add__', '__class__', '__contains__', '__delattr__', '__dir__', '__doc__', '__eq__', '__format__', '__ge__', '__getattribute__', '__getitem__', '__getnewargs__', '__gt__', '__hash__', '__init__', '__init_subclass__', '__iter__', '__le__', '__len__', '__lt__', '__mod__', '__mul__', '__ne__', '__new__', '__reduce__', '__reduce_ex__', '__repr__', '__rmod__', '__rmul__', '__setattr__', '__sizeof__', '__str__', '__subclasshook__', 'capitalize', 'casefold', 'center', 'count', 'encode', 'endswith', 'expandtabs', 'find', 'format', 'format_map', 'index', 'isalnum', 'isalpha', 'isascii', 'isdecimal', 'isdigit', 'isidentifier', 'islower', 'isnumeric', 'isprintable', 'isspace', 'istitle', 'isupper', 'join', 'ljust', 'lower', 'lstrip', 'maketrans', 'partition', 'replace', 'rfind', 'rindex', 'rjust', 'rpartition', 'rsplit', 'rstrip', 'split', 'splitlines', 'startswith', 'strip', 'swapcase', 'title', 'translate', 'upper', 'zfill']\n",
      "Help on built-in function lower:\n",
      "\n",
      "lower() method of builtins.str instance\n",
      "    Return a copy of the string converted to lowercase.\n",
      "\n",
      "ai\n"
     ]
    }
   ],
   "source": [
    "s = 'AI'\n",
    "#try dir(s) and help() on any of the string methods.\n",
    "print(dir(s))\n",
    "help(s.lower)\n",
    "s=s.lower()\n",
    "print(s)"
   ]
  },
  {
   "cell_type": "markdown",
   "id": "f289f087-27d8-4e06-a58e-5749a78f4bf5",
   "metadata": {},
   "source": [
    "## Data Structures\n",
    "Lists, Tuples, Sets, Dictionaries\n",
    "\n",
    "Lists are a sequence of mutable items. Tuples Sets are Dictionaries"
   ]
  },
  {
   "cell_type": "code",
   "execution_count": 18,
   "id": "0d8716be-ff33-4caf-8e62-c8b66dd272af",
   "metadata": {},
   "outputs": [
    {
     "name": "stdout",
     "output_type": "stream",
     "text": [
      "red\n",
      "blue\n"
     ]
    },
    {
     "data": {
      "text/plain": [
       "'purple'"
      ]
     },
     "execution_count": 18,
     "metadata": {},
     "output_type": "execute_result"
    }
   ],
   "source": [
    "colours = ['red', 'orange', 'yellow', 'green', 'blue']\n",
    "print(colours[0])\n",
    "print(colours[-1]) # negative indexing\n",
    "colours[1] # returns the string at location 1\n",
    "colours[0] = 'purple'\n",
    "colours[0]"
   ]
  },
  {
   "cell_type": "markdown",
   "id": "d86469bf-22d7-443e-a828-0feb23a930e5",
   "metadata": {},
   "source": [
    "Slice operator to index multiple elements."
   ]
  },
  {
   "cell_type": "code",
   "execution_count": 19,
   "id": "275f5364-dbfa-4662-8dc5-c2045f114ef3",
   "metadata": {},
   "outputs": [
    {
     "data": {
      "text/plain": [
       "['yellow', 'green']"
      ]
     },
     "execution_count": 19,
     "metadata": {},
     "output_type": "execute_result"
    }
   ],
   "source": [
    "colours[2:4] #gets elements 2,3"
   ]
  },
  {
   "cell_type": "markdown",
   "id": "e1afbeb5-7d9a-4c03-9d19-5491b8482a52",
   "metadata": {},
   "source": [
    "Tuples\n",
    "Like a list but immutable once created. Uses '()' instead of '[]'"
   ]
  },
  {
   "cell_type": "code",
   "execution_count": 20,
   "id": "89db43d7-d29b-4e7e-8f05-294bbcd55b6f",
   "metadata": {},
   "outputs": [
    {
     "name": "stdout",
     "output_type": "stream",
     "text": [
      "Point(2,3)\n"
     ]
    }
   ],
   "source": [
    "point = (2,3)\n",
    "x, y = point\n",
    "print(f'Point({x},{y})')\n",
    "# point[0] = 3 #This will not work!"
   ]
  },
  {
   "cell_type": "markdown",
   "id": "da13a569-67be-438e-990c-3248f05f68da",
   "metadata": {},
   "source": [
    "## Sets\n",
    "Also like a list, but unordered and does not allow duplicate items."
   ]
  },
  {
   "cell_type": "code",
   "execution_count": 21,
   "id": "ad2b4445-5603-4d7e-9a7f-b0192ad2ce56",
   "metadata": {},
   "outputs": [
    {
     "name": "stdout",
     "output_type": "stream",
     "text": [
      "{'chair', 'spoon', 'table'} {'chair', 'bed', 'spoon', 'plate'}\n",
      "True\n",
      "{'chair', 'spoon'}\n",
      "{'bed', 'spoon', 'table', 'chair', 'plate'}\n"
     ]
    }
   ],
   "source": [
    "room1 = {'chair', 'table', 'spoon'}\n",
    "room2 = {'chair', 'bed', 'plate', 'spoon'}\n",
    "print(room1, room2)\n",
    "print('spoon' in room1) \n",
    "print(room1.intersection(room2))\n",
    "print(room1.union(room2))"
   ]
  },
  {
   "cell_type": "markdown",
   "id": "2aeeb0b1-0e9d-403f-8219-083f1c3d5f26",
   "metadata": {},
   "source": [
    "## Dictionaries\n",
    "A map of key value pairs. The key must be immutable (string, number, or tuple). Vlaue can be any type."
   ]
  },
  {
   "cell_type": "code",
   "execution_count": 22,
   "id": "371a6752-d714-4725-8a3e-1e7aadd69a69",
   "metadata": {},
   "outputs": [
    {
     "name": "stdout",
     "output_type": "stream",
     "text": [
      "3\n",
      "I ordered 8 oranges\n",
      "dict_keys(['apples', 'oranges', 'lemons']) dict_values([5, 8, 2])\n"
     ]
    }
   ],
   "source": [
    "order = {'apples':5, 'oranges':3, 'lemons':2}\n",
    "print(order['oranges'])\n",
    "order['oranges'] += 5\n",
    "print(f\"I ordered {order['oranges']} oranges\")\n",
    "print(order.keys(), order.values())"
   ]
  },
  {
   "cell_type": "markdown",
   "id": "ea670889-42b6-4ae9-908f-0c3cf928ce4d",
   "metadata": {},
   "source": [
    "## Input"
   ]
  },
  {
   "cell_type": "code",
   "execution_count": 23,
   "id": "28fe8b62-b3b4-412b-a0ba-3ba3a986c374",
   "metadata": {},
   "outputs": [
    {
     "name": "stdout",
     "output_type": "stream",
     "text": [
      "Hello visha\n"
     ]
    }
   ],
   "source": [
    "a = input(\"Enter your name: \")\n",
    "print(f\"Hello {a}\")"
   ]
  },
  {
   "cell_type": "code",
   "execution_count": null,
   "id": "db23f8c3-5b50-4507-a236-8f8e2881a8cb",
   "metadata": {},
   "outputs": [],
   "source": []
  },
  {
   "cell_type": "markdown",
   "id": "67089923-3412-4250-b9a5-f75adeec1b9e",
   "metadata": {},
   "source": [
    "## The range() function\n",
    "The range () function returns a sequence of numbers, starting from zero, increments by one, and ends at a specified number."
   ]
  },
  {
   "cell_type": "code",
   "execution_count": 24,
   "id": "11b28ce5-fbf0-4eb3-aae4-7b63ca6d3c59",
   "metadata": {},
   "outputs": [
    {
     "name": "stdout",
     "output_type": "stream",
     "text": [
      "0\n",
      "1\n",
      "2\n",
      "3\n",
      "4\n",
      "5\n",
      "6\n",
      "7\n",
      "8\n",
      "9\n",
      "3\n",
      "4\n",
      "5\n",
      "6\n",
      "7\n",
      "8\n",
      "9\n",
      "3\n",
      "5\n",
      "7\n",
      "9\n"
     ]
    }
   ],
   "source": [
    "for n in range(10):\n",
    "    print(n)\n",
    "for n in range(3,10):\n",
    "    print(n)\n",
    "for n in range(3,10,2):\n",
    "    print(n)"
   ]
  },
  {
   "cell_type": "code",
   "execution_count": null,
   "id": "acca3935-06a3-429d-9d50-0418ea11339d",
   "metadata": {},
   "outputs": [],
   "source": []
  }
 ],
 "metadata": {
  "kernelspec": {
   "display_name": "Python 3.7.13 ('py37')",
   "language": "python",
   "name": "python3"
  },
  "language_info": {
   "codemirror_mode": {
    "name": "ipython",
    "version": 3
   },
   "file_extension": ".py",
   "mimetype": "text/x-python",
   "name": "python",
   "nbconvert_exporter": "python",
   "pygments_lexer": "ipython3",
   "version": "3.7.13"
  },
  "vscode": {
   "interpreter": {
    "hash": "280444b613aeb69e41669d44840d633211e28c9dfa34c3c3fb1d8583d42642e5"
   }
  }
 },
 "nbformat": 4,
 "nbformat_minor": 5
}
