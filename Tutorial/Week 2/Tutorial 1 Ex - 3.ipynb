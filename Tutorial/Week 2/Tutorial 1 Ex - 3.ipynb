{
 "cells": [
  {
   "cell_type": "code",
   "execution_count": 1,
   "id": "cbd0b8b3",
   "metadata": {},
   "outputs": [
    {
     "name": "stdout",
     "output_type": "stream",
     "text": [
      "the - 4\n",
      "rain - 2\n",
      "fell - 2\n",
      "on - 2\n",
      "car. - 1\n",
      "ground. - 1\n"
     ]
    }
   ],
   "source": [
    "# Open the file in read mode\n",
    "text = open(\"words.txt\", \"r\")\n",
    "  \n",
    "# Create an empty dictionary\n",
    "d = dict()\n",
    "  \n",
    "# Loop through each line of the file\n",
    "for line in text:\n",
    "    # Remove the leading spaces and newline character\n",
    "    line = line.strip()\n",
    "  \n",
    "    # Convert the characters in line to\n",
    "    # lowercase to avoid case mismatch\n",
    "    line = line.lower()\n",
    "  \n",
    "    # Split the line into words\n",
    "    words = line.split(\" \")\n",
    "                         \n",
    "  \n",
    "    # Iterate over each word in line\n",
    "    for word in words:\n",
    "        # Check if the word is already in dictionary\n",
    "        if word in d:\n",
    "            # Increment count of word by 1\n",
    "            d[word] = d[word] + 1\n",
    "        else:\n",
    "            # Add the word to dictionary with count 1\n",
    "            d[word] = 1\n",
    "  \n",
    "# Print the contents of dictionary\n",
    "for key in list(d.keys()):\n",
    "    print(key, \"-\", d[key])"
   ]
  },
  {
   "cell_type": "code",
   "execution_count": null,
   "id": "f85cdb02",
   "metadata": {},
   "outputs": [],
   "source": []
  },
  {
   "cell_type": "code",
   "execution_count": null,
   "id": "b7479459",
   "metadata": {},
   "outputs": [],
   "source": []
  }
 ],
 "metadata": {
  "kernelspec": {
   "display_name": "Python 3.10.7 64-bit",
   "language": "python",
   "name": "python3"
  },
  "language_info": {
   "codemirror_mode": {
    "name": "ipython",
    "version": 3
   },
   "file_extension": ".py",
   "mimetype": "text/x-python",
   "name": "python",
   "nbconvert_exporter": "python",
   "pygments_lexer": "ipython3",
   "version": "3.10.7"
  },
  "vscode": {
   "interpreter": {
    "hash": "fb4569285eef3a3450cb62085a5b1e0da4bce0af555edc33dcf29baf3acc1368"
   }
  }
 },
 "nbformat": 4,
 "nbformat_minor": 5
}
