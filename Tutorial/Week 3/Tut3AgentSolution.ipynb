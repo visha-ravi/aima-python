{
 "cells": [
  {
   "cell_type": "markdown",
   "id": "cefba825-dbad-4f07-af37-8ddd938fb744",
   "metadata": {},
   "source": [
    "### Defining an Agent"
   ]
  },
  {
   "cell_type": "markdown",
   "id": "bf999c77-3557-4db4-b45f-a5ea4dfe84c3",
   "metadata": {},
   "source": [
    "This is a minimal reflex agent environment to get you started.\n",
    "I've extracted only the basic classes needed to recreate the simple example we mentioned in the lecture."
   ]
  },
  {
   "cell_type": "code",
   "execution_count": 1,
   "id": "c52bebe7-b02d-4521-92f9-da1a0e424c20",
   "metadata": {},
   "outputs": [],
   "source": [
    "import random\n",
    "import collections"
   ]
  },
  {
   "cell_type": "code",
   "execution_count": 2,
   "id": "c3bf59bc-834b-446e-a56a-723dbfc62596",
   "metadata": {},
   "outputs": [],
   "source": [
    "class Thing:\n",
    "    \"\"\"This represents any physical object that can appear in an Environment.\n",
    "    You subclass Thing to get the things you want. Each thing can have a\n",
    "    .__name__  slot (used for output only).\"\"\"\n",
    "\n",
    "    def __repr__(self):\n",
    "        return '<{}>'.format(getattr(self, '__name__', self.__class__.__name__))\n",
    "\n",
    "    def is_alive(self):\n",
    "        \"\"\"Things that are 'alive' should return true.\"\"\"\n",
    "        return hasattr(self, 'alive') and self.alive\n",
    "\n",
    "    def show_state(self):\n",
    "        \"\"\"Display the agent's internal state. Subclasses should override.\"\"\"\n",
    "        print(\"I don't know how to show_state.\")\n",
    "\n",
    "    def display(self, canvas, x, y, width, height):\n",
    "        \"\"\"Display an image of this Thing on the canvas.\"\"\"\n",
    "        # Do we need this?\n",
    "        pass\n",
    "\n",
    "\n",
    "class Agent(Thing):\n",
    "    \"\"\"An Agent is a subclass of Thing with one required slot,\n",
    "    .program, which should hold a function that takes one argument, the\n",
    "    percept, and returns an action. (What counts as a percept or action\n",
    "    will depend on the specific environment in which the agent exists.)\n",
    "    Note that 'program' is a slot, not a method. If it were a method,\n",
    "    then the program could 'cheat' and look at aspects of the agent.\n",
    "    It's not supposed to do that: the program can only look at the\n",
    "    percepts. An agent program that needs a model of the world (and of\n",
    "    the agent itself) will have to build and maintain its own model.\n",
    "    There is an optional slot, .performance, which is a number giving\n",
    "    the performance measure of the agent in its environment.\"\"\"\n",
    "\n",
    "    def __init__(self, program=None):\n",
    "        self.alive = True\n",
    "        self.bump = False\n",
    "        self.holding = []\n",
    "        self.performance = 0\n",
    "        if program is None or not isinstance(program, collections.abc.Callable):\n",
    "            print(\"Can't find a valid program for {}, falling back to default.\".format(self.__class__.__name__))\n",
    "\n",
    "            def program(percept):\n",
    "                return eval(input('Percept={}; action? '.format(percept)))\n",
    "\n",
    "        self.program = program\n",
    "\n",
    "    def can_grab(self, thing):\n",
    "        \"\"\"Return True if this agent can grab this thing.\n",
    "        Override for appropriate subclasses of Agent and Thing.\"\"\"\n",
    "        return False\n",
    "\n",
    "\n",
    "def TraceAgent(agent):\n",
    "    \"\"\"Wrap the agent's program to print its input and output. This will let\n",
    "    you see what the agent is doing in the environment.\"\"\"\n",
    "    old_program = agent.program\n",
    "\n",
    "    def new_program(percept):\n",
    "        action = old_program(percept)\n",
    "        print('{} perceives {} and does {}'.format(agent, percept, action))\n",
    "        return action\n",
    "\n",
    "    agent.program = new_program\n",
    "    return agent\n",
    "\n",
    "\n",
    "# ______________________________________________________________________________\n",
    "\n"
   ]
  },
  {
   "cell_type": "markdown",
   "id": "cc4f60db-8445-4c35-bf4e-2787a9ba8c2d",
   "metadata": {},
   "source": [
    "### DeFine Environment"
   ]
  },
  {
   "cell_type": "code",
   "execution_count": 3,
   "id": "1954e156-0e4c-4c3e-bd40-36e38dbc39eb",
   "metadata": {},
   "outputs": [],
   "source": [
    "\n",
    "class Environment:\n",
    "    \"\"\"Abstract class representing an Environment. 'Real' Environment classes\n",
    "    inherit from this. Your Environment will typically need to implement:\n",
    "        percept:           Define the percept that an agent sees.\n",
    "        execute_action:    Define the effects of executing an action.\n",
    "                           Also update the agent.performance slot.\n",
    "    The environment keeps a list of .things and .agents (which is a subset\n",
    "    of .things). Each agent has a .performance slot, initialized to 0.\n",
    "    Each thing has a .location slot, even though some environments may not\n",
    "    need this.\"\"\"\n",
    "\n",
    "    def __init__(self):\n",
    "        self.things = []\n",
    "        self.agents = []\n",
    "\n",
    "    def thing_classes(self):\n",
    "        return []  # List of classes that can go into environment\n",
    "\n",
    "    def percept(self, agent):\n",
    "        \"\"\"Return the percept that the agent sees at this point. (Implement this.)\"\"\"\n",
    "        raise NotImplementedError\n",
    "\n",
    "    def execute_action(self, agent, action):\n",
    "        \"\"\"Change the world to reflect this action. (Implement this.)\"\"\"\n",
    "        raise NotImplementedError\n",
    "\n",
    "    def default_location(self, thing):\n",
    "        \"\"\"Default location to place a new thing with unspecified location.\"\"\"\n",
    "        return None\n",
    "\n",
    "    def exogenous_change(self):\n",
    "        \"\"\"If there is spontaneous change in the world, override this.\"\"\"\n",
    "        pass\n",
    "\n",
    "    def is_done(self):\n",
    "        \"\"\"By default, we're done when we can't find a live agent.\"\"\"\n",
    "        return not any(agent.is_alive() for agent in self.agents)\n",
    "\n",
    "    def step(self):\n",
    "        \"\"\"Run the environment for one time step. If the\n",
    "        actions and exogenous changes are independent, this method will\n",
    "        do. If there are interactions between them, you'll need to\n",
    "        override this method.\"\"\"\n",
    "        if not self.is_done():\n",
    "            actions = []\n",
    "            for agent in self.agents:\n",
    "                if agent.alive:\n",
    "                    actions.append(agent.program(self.percept(agent)))\n",
    "                else:\n",
    "                    actions.append(\"\")\n",
    "            for (agent, action) in zip(self.agents, actions):\n",
    "                self.execute_action(agent, action)\n",
    "            self.exogenous_change()\n",
    "\n",
    "    def run(self, steps=10):\n",
    "        \"\"\"Run the Environment for given number of time steps.\"\"\"\n",
    "        for step in range(steps):\n",
    "            if self.is_done():\n",
    "                return\n",
    "            self.step()\n",
    "\n",
    "    def list_things_at(self, location, tclass=Thing):\n",
    "        \"\"\"Return all things exactly at a given location.\"\"\"\n",
    "        if isinstance(location, numbers.Number):\n",
    "            return [thing for thing in self.things\n",
    "                    if thing.location == location and isinstance(thing, tclass)]\n",
    "        return [thing for thing in self.things\n",
    "                if all(x == y for x, y in zip(thing.location, location)) and isinstance(thing, tclass)]\n",
    "\n",
    "    def some_things_at(self, location, tclass=Thing):\n",
    "        \"\"\"Return true if at least one of the things at location\n",
    "        is an instance of class tclass (or a subclass).\"\"\"\n",
    "        return self.list_things_at(location, tclass) != []\n",
    "\n",
    "    def add_thing(self, thing, location=None):\n",
    "        \"\"\"Add a thing to the environment, setting its location. For\n",
    "        convenience, if thing is an agent program we make a new agent\n",
    "        for it. (Shouldn't need to override this.)\"\"\"\n",
    "        if not isinstance(thing, Thing):\n",
    "            thing = Agent(thing)\n",
    "        if thing in self.things:\n",
    "            print(\"Can't add the same thing twice\")\n",
    "        else:\n",
    "            thing.location = location if location is not None else self.default_location(thing)\n",
    "            self.things.append(thing)\n",
    "            if isinstance(thing, Agent):\n",
    "                thing.performance = 0\n",
    "                self.agents.append(thing)\n",
    "\n",
    "    def delete_thing(self, thing):\n",
    "        \"\"\"Remove a thing from the environment.\"\"\"\n",
    "        try:\n",
    "            self.things.remove(thing)\n",
    "        except ValueError as e:\n",
    "            print(e)\n",
    "            print(\"  in Environment delete_thing\")\n",
    "            print(\"  Thing to be removed: {} at {}\".format(thing, thing.location))\n",
    "            print(\"  from list: {}\".format([(thing, thing.location) for thing in self.things]))\n",
    "        if thing in self.agents:\n",
    "            self.agents.remove(thing)\n"
   ]
  },
  {
   "cell_type": "markdown",
   "id": "41a22f0d-1c44-4564-8fd5-085a87651d00",
   "metadata": {},
   "source": [
    "### Trivial Vacuum Environment"
   ]
  },
  {
   "cell_type": "code",
   "execution_count": 4,
   "id": "c28a7964-41fa-45bb-8a49-7b1892e6582c",
   "metadata": {},
   "outputs": [],
   "source": [
    "class TrivialVacuumEnvironment(Environment):\n",
    "    \"\"\"This environment has two locations, A and B. Each can be Dirty\n",
    "    or Clean. The agent perceives its location and the location's\n",
    "    status. This serves as an example of how to implement a simple\n",
    "    Environment.\"\"\"\n",
    "\n",
    "    def __init__(self):\n",
    "        super().__init__()\n",
    "        self.status = {loc_A: random.choice(['Clean', 'Dirty']),\n",
    "                       loc_B: random.choice(['Clean', 'Dirty']),\n",
    "                       loc_C: random.choice(['Clean', 'Dirty'])}\n",
    "\n",
    "    def thing_classes(self):\n",
    "        return [Wall, Dirt, ReflexVacuumAgent, RandomVacuumAgent, TableDrivenVacuumAgent, ModelBasedVacuumAgent]\n",
    "\n",
    "    def percept(self, agent):\n",
    "        \"\"\"Returns the agent's location, and the location status (Dirty/Clean).\"\"\"\n",
    "        return agent.location, self.status[agent.location]\n",
    "\n",
    "    def execute_action(self, agent, action):\n",
    "        \"\"\"Change agent's location and/or location's status; track performance.\n",
    "        Score 10 for each dirt cleaned; -1 for each move.\"\"\"\n",
    "        #import pdb;pdb.set_trace()\n",
    "        if agent.location == loc_B:\n",
    "            if action == 'Left':\n",
    "                agent.location = loc_A\n",
    "                agent.performance -= 1\n",
    "            if action == 'Right':\n",
    "                agent.location = loc_C\n",
    "                agent.performance -= 1\n",
    "        elif agent.location == loc_A:\n",
    "            if action == 'Right':\n",
    "                agent.location = loc_B\n",
    "                agent.performance -= 1\n",
    "        elif action == 'Left':\n",
    "            agent.location = loc_B\n",
    "            agent.performance -= 1\n",
    "        elif action == 'Suck':\n",
    "            if self.status[agent.location] == 'Dirty':\n",
    "                agent.performance += 10\n",
    "            self.status[agent.location] = 'Clean'\n",
    "\n",
    "    def default_location(self, thing):\n",
    "        \"\"\"Agents start in either location at random.\"\"\"\n",
    "        return random.choice([loc_A, loc_B, loc_C])\n"
   ]
  },
  {
   "cell_type": "code",
   "execution_count": 5,
   "id": "ed53eb73-051f-48d0-8e6b-f284333169d0",
   "metadata": {},
   "outputs": [],
   "source": [
    "\n",
    "def ReflexVacuumAgent():\n",
    "    \"\"\"\n",
    "    See [Figure 2.8] in the book.\n",
    "    A reflex agent for the two-state vacuum environment.\n",
    "    \"\"\"\n",
    "\n",
    "    def program(percept):\n",
    "        location, status = percept\n",
    "        if status == 'Dirty':\n",
    "            return 'Suck'\n",
    "        elif location == loc_A:\n",
    "            return 'Right'\n",
    "        elif location == loc_B:\n",
    "            return random.choice(['Left','Right'])\n",
    "        else:\n",
    "            return 'Left'\n",
    "\n",
    "    return Agent(program)\n",
    "\n"
   ]
  },
  {
   "cell_type": "markdown",
   "id": "02c47452-a0d8-4e5f-989d-263d3dce55e8",
   "metadata": {},
   "source": [
    "Here's how to put it all together. \n",
    "Notice I used TraceAgent so we can see the agents behaviour."
   ]
  },
  {
   "cell_type": "code",
   "execution_count": 6,
   "id": "37323b7b-0425-4d28-a63d-4354fbfb5146",
   "metadata": {},
   "outputs": [],
   "source": [
    "loc_A, loc_B, loc_C = (0, 0), (1, 0), (0, 1)  # The two locations for the Vacuum world"
   ]
  },
  {
   "cell_type": "code",
   "execution_count": 7,
   "id": "477a5a39-b606-4e6f-8935-28766cf83858",
   "metadata": {},
   "outputs": [
    {
     "name": "stdout",
     "output_type": "stream",
     "text": [
      "{(0, 0): 'Clean', (1, 0): 'Clean', (0, 1): 'Dirty'}\n",
      "<Agent> perceives ((0, 0), 'Clean') and does Right\n",
      "<Agent> perceives ((1, 0), 'Clean') and does Left\n",
      "<Agent> perceives ((0, 0), 'Clean') and does Right\n",
      "<Agent> perceives ((1, 0), 'Clean') and does Right\n",
      "<Agent> perceives ((0, 1), 'Dirty') and does Suck\n",
      "<Agent> perceives ((0, 1), 'Clean') and does Left\n",
      "<Agent> perceives ((1, 0), 'Clean') and does Right\n",
      "<Agent> perceives ((0, 1), 'Clean') and does Left\n",
      "<Agent> perceives ((1, 0), 'Clean') and does Right\n",
      "<Agent> perceives ((0, 1), 'Clean') and does Left\n"
     ]
    },
    {
     "data": {
      "text/plain": [
       "False"
      ]
     },
     "execution_count": 7,
     "metadata": {},
     "output_type": "execute_result"
    }
   ],
   "source": [
    "    agent = TraceAgent(ReflexVacuumAgent())\n",
    "    environment = TrivialVacuumEnvironment()\n",
    "    print(environment.status)\n",
    "    environment.add_thing(agent)\n",
    "    environment.run()\n",
    "    environment.status == {(1,0):'Clean' , (0,0) : 'Clean'}\n",
    "    "
   ]
  },
  {
   "cell_type": "code",
   "execution_count": 8,
   "id": "4185cec2-f8a8-42fc-bc6e-fbeaaef8eada",
   "metadata": {},
   "outputs": [
    {
     "data": {
      "text/plain": [
       "'Dirty'"
      ]
     },
     "execution_count": 8,
     "metadata": {},
     "output_type": "execute_result"
    }
   ],
   "source": [
    "import random\n",
    "random.choice(['Clean', 'Dirty'])"
   ]
  },
  {
   "cell_type": "code",
   "execution_count": 9,
   "id": "ad6c9519-c930-4a2d-a287-1d1751283509",
   "metadata": {},
   "outputs": [
    {
     "name": "stdout",
     "output_type": "stream",
     "text": [
      "{(0, 0): 'Dirty', (1, 0): 'Clean', (0, 1): 'Dirty'}\n"
     ]
    }
   ],
   "source": [
    "status = {loc_A: random.choice(['Clean', 'Dirty']),\n",
    "                       loc_B: random.choice(['Clean', 'Dirty']),loc_C: random.choice(['Clean', 'Dirty'])}\n",
    "print(status)"
   ]
  },
  {
   "cell_type": "markdown",
   "id": "1fd4c409-d513-4926-84fa-94649b79f9a5",
   "metadata": {},
   "source": [
    "**Try changing the initial status of the agent and see how it behaves.**"
   ]
  },
  {
   "cell_type": "markdown",
   "id": "93be6492-dca1-4b4b-af05-b60b9eba15f8",
   "metadata": {},
   "source": [
    "**Can you extend the environment to more locations? \n",
    "for instance, add loc_C?**"
   ]
  },
  {
   "cell_type": "code",
   "execution_count": null,
   "id": "1aeb5250-e514-43f5-87f0-d6172ae23616",
   "metadata": {},
   "outputs": [],
   "source": []
  }
 ],
 "metadata": {
  "kernelspec": {
   "display_name": "Python 3.7.13 ('py37')",
   "language": "python",
   "name": "python3"
  },
  "language_info": {
   "codemirror_mode": {
    "name": "ipython",
    "version": 3
   },
   "file_extension": ".py",
   "mimetype": "text/x-python",
   "name": "python",
   "nbconvert_exporter": "python",
   "pygments_lexer": "ipython3",
   "version": "3.7.13"
  },
  "vscode": {
   "interpreter": {
    "hash": "280444b613aeb69e41669d44840d633211e28c9dfa34c3c3fb1d8583d42642e5"
   }
  }
 },
 "nbformat": 4,
 "nbformat_minor": 5
}
